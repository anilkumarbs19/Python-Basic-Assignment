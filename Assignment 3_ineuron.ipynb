{
 "cells": [
  {
   "cell_type": "markdown",
   "metadata": {},
   "source": [
    "# Assignment 3\n",
    "\n",
    "# Question 1:  Why are functions advantageous to have in your programs\n",
    "\n",
    "Answer : Functions reduce the need for duplicate code. This makes programs easier to undertand & helps in executing repeted tasks easily."
   ]
  },
  {
   "cell_type": "markdown",
   "metadata": {},
   "source": [
    "# Question 2 : When does the code in a function run: when it's specified or when it's called?\n",
    "        \n",
    "Answer : Code in the fuction gets executed when its(function) called"
   ]
  },
  {
   "cell_type": "markdown",
   "metadata": {},
   "source": [
    "# Question 3 : What statement creates a function\n",
    "\n",
    "Answer : the def keyword():  creates a function"
   ]
  },
  {
   "cell_type": "markdown",
   "metadata": {},
   "source": [
    "# Question 4 :  What is the difference between a function and a function call\n",
    "\n",
    "Answer :  A function is a procedure or set of statements to acheive a perticular task.\n",
    "\n",
    "A function call is using a function to acheive the result. unless a function is called there is no use of function"
   ]
  },
  {
   "cell_type": "markdown",
   "metadata": {},
   "source": [
    "# Question 5 : How many global scopes are there in a Python program? How many local scopes?\n",
    "\n",
    "Answer : There is one global scope, and a local scope is created whenever a function is called."
   ]
  },
  {
   "cell_type": "markdown",
   "metadata": {},
   "source": [
    "# Question 6 : What happens to variables in a local scope when the function call returns\n",
    "\n",
    "Answer : When a function returns, the local scope is destroyed, and all the variables in it are forgotten."
   ]
  },
  {
   "cell_type": "markdown",
   "metadata": {},
   "source": [
    "# Question 7 : What is the concept of a return value? Is it possible to have a return value in an expression\n",
    "\n",
    "Answer : A return value is the value that a function call evaluates to. Like any value, a return value can be used as part of an expression"
   ]
  },
  {
   "cell_type": "markdown",
   "metadata": {},
   "source": [
    "# Question 8 : If a function does not have a return statement, what is the return value of a call to that function?\n",
    "\n",
    "Answer : If there is no return statement for a function, its return value is None"
   ]
  },
  {
   "cell_type": "markdown",
   "metadata": {},
   "source": [
    "# Question 9 :  How do you make a function variable refer to the global variable\n",
    "\n",
    "Answer  : A global statement will force a variable in a function to refer to the global variable."
   ]
  },
  {
   "cell_type": "markdown",
   "metadata": {},
   "source": [
    "# Question 10 : What is the data type of None?\n",
    "\n",
    "Answer : The data type of None is NoneType."
   ]
  },
  {
   "cell_type": "markdown",
   "metadata": {},
   "source": [
    "# Question 11 : What does the sentence import areallyourpetsnamederic do?\n",
    "\n",
    "Answer : That import statement imports a module named areallyourpetsnamederic.\n"
   ]
  },
  {
   "cell_type": "markdown",
   "metadata": {},
   "source": [
    "# Question 12 : If you had a bacon() feature in a spam module, what would you call it after importing spam?\n",
    "\n",
    "Answer : This function can be called with spam.bacon()."
   ]
  },
  {
   "cell_type": "markdown",
   "metadata": {},
   "source": [
    "# Question 13 : What can you do to save a programme from crashing if it encounters an error?\n",
    "\n",
    "Answer : Place the line of code that might cause an error in a try clause."
   ]
  },
  {
   "cell_type": "markdown",
   "metadata": {},
   "source": [
    "# Question 14 :  What is the purpose of the try clause? What is the purpose of the except clause?\n",
    "\n",
    "Answer : The code that could potentially cause an error goes in the try clause.\n",
    "\n",
    "The code that executes if an error happens goes in the except clause."
   ]
  },
  {
   "cell_type": "code",
   "execution_count": null,
   "metadata": {},
   "outputs": [],
   "source": []
  }
 ],
 "metadata": {
  "kernelspec": {
   "display_name": "Python 3",
   "language": "python",
   "name": "python3"
  },
  "language_info": {
   "codemirror_mode": {
    "name": "ipython",
    "version": 3
   },
   "file_extension": ".py",
   "mimetype": "text/x-python",
   "name": "python",
   "nbconvert_exporter": "python",
   "pygments_lexer": "ipython3",
   "version": "3.8.3"
  }
 },
 "nbformat": 4,
 "nbformat_minor": 4
}
