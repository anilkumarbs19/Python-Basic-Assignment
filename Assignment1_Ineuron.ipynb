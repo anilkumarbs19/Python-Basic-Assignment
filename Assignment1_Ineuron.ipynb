{
 "cells": [
  {
   "cell_type": "markdown",
   "metadata": {},
   "source": [
    "# Assignment 1\n",
    "\n",
    "# Question 1 : In the below elements which of them are values or an expression? eg:- values can be integer or string and expressions will be mathematical operators. * 'hello' -87.8  - / + 6\n",
    "\n",
    "ANSWER :\n",
    "\n",
    "'hello' , -87.8, 6 are values \n",
    "\n",
    "* , - , / , + are expressions"
   ]
  },
  {
   "cell_type": "markdown",
   "metadata": {},
   "source": [
    "# Question 2 :  What is the difference between string and variable\n",
    "    \n",
    "Answer : A variable is an object which can strore values in a memory location, A variable can hold a string ,but a string can't hold a variable.\n",
    "\n",
    "A String is an data type for a sequence of characters,\n",
    "in python anything you assign to a variable using quotes (single or double) will be considered as a string. "
   ]
  },
  {
   "cell_type": "markdown",
   "metadata": {},
   "source": [
    "# Question 3 :  Describe three different data types\n",
    "\n",
    "Answer : The data types are List, Tuple,Set & Dictionary\n",
    "\n",
    "  a)List is a collection which is ordered and changeable. Allows duplicate members. example :-List = [\"Orange\", \"Grapes\", \"Berry\"]\n",
    "\n",
    "b)Tuple is a collection which is ordered and unchangeable. Allows duplicate members. ex:-tuple = (\"Ineuron\", 25, False, 45)\n",
    "\n",
    "c)Set is a collection which is unordered and unindexed. No duplicate members. ex:-myset = {\"pencil\", \"sharpner\", \"Eraser\"}\n",
    "\n",
    "d)Dictionary is a collection which is ordered* and changeable. No duplicate members. ex:-thisdict = { \"Football\": \"Spain\", \"League\": \"Laliga \", \"Player\": Messi }"
   ]
  },
  {
   "cell_type": "markdown",
   "metadata": {},
   "source": [
    "# Question 4 : What is an expression made up of? What do all expressions do?\n",
    "    \n",
    "Answer : An expression is a combination of values and operators. All expressions evaluate to a single value. "
   ]
  },
  {
   "cell_type": "markdown",
   "metadata": {},
   "source": [
    "# Question 5 : This assignment statements, like spam = 10. What is the difference between an expression and a statement?\n",
    "\n",
    "Answer :  An expression evalutes to some value. Whereas statement performs some action.\n",
    "    \n",
    "    Example of expression :  \n",
    "        6 + 6\n",
    "        2500\n",
    "        x *7 > y\n",
    "    \n",
    "    Example of Statement : \n",
    "        Print (\"Ineuron\")\n",
    "        if(done) exit()"
   ]
  },
  {
   "cell_type": "markdown",
   "metadata": {},
   "source": [
    "# Question 6 :  After running the following code, what does the variable bacon contain? bacon = 22 bacon + 1"
   ]
  },
  {
   "cell_type": "code",
   "execution_count": 5,
   "metadata": {},
   "outputs": [
    {
     "data": {
      "text/plain": [
       "23"
      ]
     },
     "execution_count": 5,
     "metadata": {},
     "output_type": "execute_result"
    }
   ],
   "source": [
    "bacon = 22\n",
    "bacon + 1 "
   ]
  },
  {
   "cell_type": "code",
   "execution_count": 6,
   "metadata": {},
   "outputs": [
    {
     "name": "stdout",
     "output_type": "stream",
     "text": [
      "22\n"
     ]
    }
   ],
   "source": [
    "print (bacon)"
   ]
  },
  {
   "cell_type": "markdown",
   "metadata": {},
   "source": [
    "ANSWER : As you can observe bacon is set to 22 intially, expression bacon +1 does not reassign the value to variable bacon.\n",
    "it requires an assignemnt statement as  (bacon = bacon + 1)"
   ]
  },
  {
   "cell_type": "markdown",
   "metadata": {},
   "source": [
    "# Question 7 : What should the values of the following two terms be? 'spam' + 'spamspam'  'spam' * 3"
   ]
  },
  {
   "cell_type": "code",
   "execution_count": 7,
   "metadata": {},
   "outputs": [
    {
     "data": {
      "text/plain": [
       "'spamspamspam'"
      ]
     },
     "execution_count": 7,
     "metadata": {},
     "output_type": "execute_result"
    }
   ],
   "source": [
    "'spam' + 'spamspam'"
   ]
  },
  {
   "cell_type": "code",
   "execution_count": 8,
   "metadata": {},
   "outputs": [
    {
     "data": {
      "text/plain": [
       "'spamspamspam'"
      ]
     },
     "execution_count": 8,
     "metadata": {},
     "output_type": "execute_result"
    }
   ],
   "source": [
    "'spam' * 3"
   ]
  },
  {
   "cell_type": "markdown",
   "metadata": {},
   "source": [
    "Answer : As you can observe both expression the output is same 'spamspamspam'"
   ]
  },
  {
   "cell_type": "markdown",
   "metadata": {},
   "source": [
    "# Question 8 :  Why is eggs a valid variable name while 100 is invalid?\n",
    "\n",
    "Answer : Variable names cannot begin with a number"
   ]
  },
  {
   "cell_type": "markdown",
   "metadata": {},
   "source": [
    "# Question 9 : What three functions can be used to get the integer, floating-point number, or string version of a value?\n",
    "\n",
    "Answer : The int(), float(), and str() functions will evaluate to the integer, floating-point number, and string versions of the value passed to them"
   ]
  },
  {
   "cell_type": "markdown",
   "metadata": {},
   "source": [
    "# Question 10 . Why does this expression cause an error? How can you fix it   'I have eaten ' + 99 + ' burritos.'\n",
    "\n",
    "Answer : The expression causes an error because 99 is an integer, and only strings can be concatenated to other strings with the + operator. \n",
    "The correct way is 'I have eaten ' + str(99) + ' burritos.'\n"
   ]
  },
  {
   "cell_type": "code",
   "execution_count": null,
   "metadata": {},
   "outputs": [],
   "source": []
  }
 ],
 "metadata": {
  "kernelspec": {
   "display_name": "Python 3",
   "language": "python",
   "name": "python3"
  },
  "language_info": {
   "codemirror_mode": {
    "name": "ipython",
    "version": 3
   },
   "file_extension": ".py",
   "mimetype": "text/x-python",
   "name": "python",
   "nbconvert_exporter": "python",
   "pygments_lexer": "ipython3",
   "version": "3.8.3"
  }
 },
 "nbformat": 4,
 "nbformat_minor": 4
}
